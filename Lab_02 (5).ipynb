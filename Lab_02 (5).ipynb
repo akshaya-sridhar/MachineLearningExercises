{
  "cells": [
    {
      "cell_type": "markdown",
      "source": [
        "### Name : Akshaya \n",
        "### Class: 4 MCA \n",
        "### Reg No: 2147256"
      ],
      "metadata": {
        "id": "OZ5VzjEjuGlV"
      }
    },
    {
      "cell_type": "code",
      "execution_count": null,
      "metadata": {
        "id": "17kqbbO4-RsZ"
      },
      "outputs": [],
      "source": [
        "import os \n",
        "import numpy as np\n",
        "import pandas as pd\n",
        "import seaborn as sns\n",
        "import math\n",
        "import matplotlib.pyplot as plt\n",
        "from scipy import stats\n",
        "from sklearn.neighbors import KNeighborsClassifier\n",
        "from sklearn.model_selection import train_test_split\n",
        "from sklearn.metrics import confusion_matrix, accuracy_score\n",
        "from sklearn.preprocessing import MinMaxScaler"
      ]
    },
    {
      "cell_type": "code",
      "execution_count": null,
      "metadata": {
        "colab": {
          "base_uri": "https://localhost:8080/"
        },
        "id": "S83s_rs8-XeB",
        "outputId": "68d11875-646f-4d44-e17e-d550f2f056c5"
      },
      "outputs": [
        {
          "output_type": "stream",
          "name": "stdout",
          "text": [
            "Mounted at /content/drive\n"
          ]
        }
      ],
      "source": [
        "from google.colab import drive\n",
        "drive.mount('/content/drive')"
      ]
    },
    {
      "cell_type": "code",
      "execution_count": null,
      "metadata": {
        "id": "UROTG5Nb-bad"
      },
      "outputs": [],
      "source": [
        "data = pd.read_csv(\"/content/drive/My Drive/Colab Notebooks/data/BankChurners.csv\")"
      ]
    },
    {
      "cell_type": "code",
      "execution_count": null,
      "metadata": {
        "colab": {
          "base_uri": "https://localhost:8080/",
          "height": 386
        },
        "id": "cXZ1fedY-tlx",
        "outputId": "206f78e9-2475-45d5-a8b3-c4275a4e5a15"
      },
      "outputs": [
        {
          "output_type": "execute_result",
          "data": {
            "text/plain": [
              "   CLIENTNUM     Attrition_Flag  Customer_Age Gender  Dependent_count  \\\n",
              "0  768805383  Existing Customer            45      M                3   \n",
              "1  818770008  Existing Customer            49      F                5   \n",
              "2  713982108  Existing Customer            51      M                3   \n",
              "3  769911858  Existing Customer            40      F                4   \n",
              "4  709106358  Existing Customer            40      M                3   \n",
              "\n",
              "  Education_Level Marital_Status Income_Category Card_Category  \\\n",
              "0     High School        Married     $60K - $80K          Blue   \n",
              "1        Graduate         Single  Less than $40K          Blue   \n",
              "2        Graduate        Married    $80K - $120K          Blue   \n",
              "3     High School        Unknown  Less than $40K          Blue   \n",
              "4      Uneducated        Married     $60K - $80K          Blue   \n",
              "\n",
              "   Months_on_book  ...  Months_Inactive_12_mon  Contacts_Count_12_mon  \\\n",
              "0              39  ...                       1                      3   \n",
              "1              44  ...                       1                      2   \n",
              "2              36  ...                       1                      0   \n",
              "3              34  ...                       4                      1   \n",
              "4              21  ...                       1                      0   \n",
              "\n",
              "   Credit_Limit  Total_Revolving_Bal  Avg_Open_To_Buy  Total_Amt_Chng_Q4_Q1  \\\n",
              "0       12691.0                  777          11914.0                 1.335   \n",
              "1        8256.0                  864           7392.0                 1.541   \n",
              "2        3418.0                    0           3418.0                 2.594   \n",
              "3        3313.0                 2517            796.0                 1.405   \n",
              "4        4716.0                    0           4716.0                 2.175   \n",
              "\n",
              "   Total_Trans_Amt  Total_Trans_Ct  Total_Ct_Chng_Q4_Q1  Avg_Utilization_Ratio  \n",
              "0             1144              42                1.625                  0.061  \n",
              "1             1291              33                3.714                  0.105  \n",
              "2             1887              20                2.333                  0.000  \n",
              "3             1171              20                2.333                  0.760  \n",
              "4              816              28                2.500                  0.000  \n",
              "\n",
              "[5 rows x 21 columns]"
            ],
            "text/html": [
              "\n",
              "  <div id=\"df-0fa50cc3-d484-4a85-889c-a86f60b32281\">\n",
              "    <div class=\"colab-df-container\">\n",
              "      <div>\n",
              "<style scoped>\n",
              "    .dataframe tbody tr th:only-of-type {\n",
              "        vertical-align: middle;\n",
              "    }\n",
              "\n",
              "    .dataframe tbody tr th {\n",
              "        vertical-align: top;\n",
              "    }\n",
              "\n",
              "    .dataframe thead th {\n",
              "        text-align: right;\n",
              "    }\n",
              "</style>\n",
              "<table border=\"1\" class=\"dataframe\">\n",
              "  <thead>\n",
              "    <tr style=\"text-align: right;\">\n",
              "      <th></th>\n",
              "      <th>CLIENTNUM</th>\n",
              "      <th>Attrition_Flag</th>\n",
              "      <th>Customer_Age</th>\n",
              "      <th>Gender</th>\n",
              "      <th>Dependent_count</th>\n",
              "      <th>Education_Level</th>\n",
              "      <th>Marital_Status</th>\n",
              "      <th>Income_Category</th>\n",
              "      <th>Card_Category</th>\n",
              "      <th>Months_on_book</th>\n",
              "      <th>...</th>\n",
              "      <th>Months_Inactive_12_mon</th>\n",
              "      <th>Contacts_Count_12_mon</th>\n",
              "      <th>Credit_Limit</th>\n",
              "      <th>Total_Revolving_Bal</th>\n",
              "      <th>Avg_Open_To_Buy</th>\n",
              "      <th>Total_Amt_Chng_Q4_Q1</th>\n",
              "      <th>Total_Trans_Amt</th>\n",
              "      <th>Total_Trans_Ct</th>\n",
              "      <th>Total_Ct_Chng_Q4_Q1</th>\n",
              "      <th>Avg_Utilization_Ratio</th>\n",
              "    </tr>\n",
              "  </thead>\n",
              "  <tbody>\n",
              "    <tr>\n",
              "      <th>0</th>\n",
              "      <td>768805383</td>\n",
              "      <td>Existing Customer</td>\n",
              "      <td>45</td>\n",
              "      <td>M</td>\n",
              "      <td>3</td>\n",
              "      <td>High School</td>\n",
              "      <td>Married</td>\n",
              "      <td>$60K - $80K</td>\n",
              "      <td>Blue</td>\n",
              "      <td>39</td>\n",
              "      <td>...</td>\n",
              "      <td>1</td>\n",
              "      <td>3</td>\n",
              "      <td>12691.0</td>\n",
              "      <td>777</td>\n",
              "      <td>11914.0</td>\n",
              "      <td>1.335</td>\n",
              "      <td>1144</td>\n",
              "      <td>42</td>\n",
              "      <td>1.625</td>\n",
              "      <td>0.061</td>\n",
              "    </tr>\n",
              "    <tr>\n",
              "      <th>1</th>\n",
              "      <td>818770008</td>\n",
              "      <td>Existing Customer</td>\n",
              "      <td>49</td>\n",
              "      <td>F</td>\n",
              "      <td>5</td>\n",
              "      <td>Graduate</td>\n",
              "      <td>Single</td>\n",
              "      <td>Less than $40K</td>\n",
              "      <td>Blue</td>\n",
              "      <td>44</td>\n",
              "      <td>...</td>\n",
              "      <td>1</td>\n",
              "      <td>2</td>\n",
              "      <td>8256.0</td>\n",
              "      <td>864</td>\n",
              "      <td>7392.0</td>\n",
              "      <td>1.541</td>\n",
              "      <td>1291</td>\n",
              "      <td>33</td>\n",
              "      <td>3.714</td>\n",
              "      <td>0.105</td>\n",
              "    </tr>\n",
              "    <tr>\n",
              "      <th>2</th>\n",
              "      <td>713982108</td>\n",
              "      <td>Existing Customer</td>\n",
              "      <td>51</td>\n",
              "      <td>M</td>\n",
              "      <td>3</td>\n",
              "      <td>Graduate</td>\n",
              "      <td>Married</td>\n",
              "      <td>$80K - $120K</td>\n",
              "      <td>Blue</td>\n",
              "      <td>36</td>\n",
              "      <td>...</td>\n",
              "      <td>1</td>\n",
              "      <td>0</td>\n",
              "      <td>3418.0</td>\n",
              "      <td>0</td>\n",
              "      <td>3418.0</td>\n",
              "      <td>2.594</td>\n",
              "      <td>1887</td>\n",
              "      <td>20</td>\n",
              "      <td>2.333</td>\n",
              "      <td>0.000</td>\n",
              "    </tr>\n",
              "    <tr>\n",
              "      <th>3</th>\n",
              "      <td>769911858</td>\n",
              "      <td>Existing Customer</td>\n",
              "      <td>40</td>\n",
              "      <td>F</td>\n",
              "      <td>4</td>\n",
              "      <td>High School</td>\n",
              "      <td>Unknown</td>\n",
              "      <td>Less than $40K</td>\n",
              "      <td>Blue</td>\n",
              "      <td>34</td>\n",
              "      <td>...</td>\n",
              "      <td>4</td>\n",
              "      <td>1</td>\n",
              "      <td>3313.0</td>\n",
              "      <td>2517</td>\n",
              "      <td>796.0</td>\n",
              "      <td>1.405</td>\n",
              "      <td>1171</td>\n",
              "      <td>20</td>\n",
              "      <td>2.333</td>\n",
              "      <td>0.760</td>\n",
              "    </tr>\n",
              "    <tr>\n",
              "      <th>4</th>\n",
              "      <td>709106358</td>\n",
              "      <td>Existing Customer</td>\n",
              "      <td>40</td>\n",
              "      <td>M</td>\n",
              "      <td>3</td>\n",
              "      <td>Uneducated</td>\n",
              "      <td>Married</td>\n",
              "      <td>$60K - $80K</td>\n",
              "      <td>Blue</td>\n",
              "      <td>21</td>\n",
              "      <td>...</td>\n",
              "      <td>1</td>\n",
              "      <td>0</td>\n",
              "      <td>4716.0</td>\n",
              "      <td>0</td>\n",
              "      <td>4716.0</td>\n",
              "      <td>2.175</td>\n",
              "      <td>816</td>\n",
              "      <td>28</td>\n",
              "      <td>2.500</td>\n",
              "      <td>0.000</td>\n",
              "    </tr>\n",
              "  </tbody>\n",
              "</table>\n",
              "<p>5 rows × 21 columns</p>\n",
              "</div>\n",
              "      <button class=\"colab-df-convert\" onclick=\"convertToInteractive('df-0fa50cc3-d484-4a85-889c-a86f60b32281')\"\n",
              "              title=\"Convert this dataframe to an interactive table.\"\n",
              "              style=\"display:none;\">\n",
              "        \n",
              "  <svg xmlns=\"http://www.w3.org/2000/svg\" height=\"24px\"viewBox=\"0 0 24 24\"\n",
              "       width=\"24px\">\n",
              "    <path d=\"M0 0h24v24H0V0z\" fill=\"none\"/>\n",
              "    <path d=\"M18.56 5.44l.94 2.06.94-2.06 2.06-.94-2.06-.94-.94-2.06-.94 2.06-2.06.94zm-11 1L8.5 8.5l.94-2.06 2.06-.94-2.06-.94L8.5 2.5l-.94 2.06-2.06.94zm10 10l.94 2.06.94-2.06 2.06-.94-2.06-.94-.94-2.06-.94 2.06-2.06.94z\"/><path d=\"M17.41 7.96l-1.37-1.37c-.4-.4-.92-.59-1.43-.59-.52 0-1.04.2-1.43.59L10.3 9.45l-7.72 7.72c-.78.78-.78 2.05 0 2.83L4 21.41c.39.39.9.59 1.41.59.51 0 1.02-.2 1.41-.59l7.78-7.78 2.81-2.81c.8-.78.8-2.07 0-2.86zM5.41 20L4 18.59l7.72-7.72 1.47 1.35L5.41 20z\"/>\n",
              "  </svg>\n",
              "      </button>\n",
              "      \n",
              "  <style>\n",
              "    .colab-df-container {\n",
              "      display:flex;\n",
              "      flex-wrap:wrap;\n",
              "      gap: 12px;\n",
              "    }\n",
              "\n",
              "    .colab-df-convert {\n",
              "      background-color: #E8F0FE;\n",
              "      border: none;\n",
              "      border-radius: 50%;\n",
              "      cursor: pointer;\n",
              "      display: none;\n",
              "      fill: #1967D2;\n",
              "      height: 32px;\n",
              "      padding: 0 0 0 0;\n",
              "      width: 32px;\n",
              "    }\n",
              "\n",
              "    .colab-df-convert:hover {\n",
              "      background-color: #E2EBFA;\n",
              "      box-shadow: 0px 1px 2px rgba(60, 64, 67, 0.3), 0px 1px 3px 1px rgba(60, 64, 67, 0.15);\n",
              "      fill: #174EA6;\n",
              "    }\n",
              "\n",
              "    [theme=dark] .colab-df-convert {\n",
              "      background-color: #3B4455;\n",
              "      fill: #D2E3FC;\n",
              "    }\n",
              "\n",
              "    [theme=dark] .colab-df-convert:hover {\n",
              "      background-color: #434B5C;\n",
              "      box-shadow: 0px 1px 3px 1px rgba(0, 0, 0, 0.15);\n",
              "      filter: drop-shadow(0px 1px 2px rgba(0, 0, 0, 0.3));\n",
              "      fill: #FFFFFF;\n",
              "    }\n",
              "  </style>\n",
              "\n",
              "      <script>\n",
              "        const buttonEl =\n",
              "          document.querySelector('#df-0fa50cc3-d484-4a85-889c-a86f60b32281 button.colab-df-convert');\n",
              "        buttonEl.style.display =\n",
              "          google.colab.kernel.accessAllowed ? 'block' : 'none';\n",
              "\n",
              "        async function convertToInteractive(key) {\n",
              "          const element = document.querySelector('#df-0fa50cc3-d484-4a85-889c-a86f60b32281');\n",
              "          const dataTable =\n",
              "            await google.colab.kernel.invokeFunction('convertToInteractive',\n",
              "                                                     [key], {});\n",
              "          if (!dataTable) return;\n",
              "\n",
              "          const docLinkHtml = 'Like what you see? Visit the ' +\n",
              "            '<a target=\"_blank\" href=https://colab.research.google.com/notebooks/data_table.ipynb>data table notebook</a>'\n",
              "            + ' to learn more about interactive tables.';\n",
              "          element.innerHTML = '';\n",
              "          dataTable['output_type'] = 'display_data';\n",
              "          await google.colab.output.renderOutput(dataTable, element);\n",
              "          const docLink = document.createElement('div');\n",
              "          docLink.innerHTML = docLinkHtml;\n",
              "          element.appendChild(docLink);\n",
              "        }\n",
              "      </script>\n",
              "    </div>\n",
              "  </div>\n",
              "  "
            ]
          },
          "metadata": {},
          "execution_count": 4
        }
      ],
      "source": [
        "# Displaying initial values\n",
        "data.head()"
      ]
    },
    {
      "cell_type": "code",
      "execution_count": null,
      "metadata": {
        "colab": {
          "base_uri": "https://localhost:8080/"
        },
        "id": "SJpuCynU-wVF",
        "outputId": "c9d6a6fd-fe77-4f99-d8d8-12c52b68b2a3"
      },
      "outputs": [
        {
          "output_type": "execute_result",
          "data": {
            "text/plain": [
              "(10127, 21)"
            ]
          },
          "metadata": {},
          "execution_count": 5
        }
      ],
      "source": [
        "# Identifying the number of rows and columns \n",
        "data.shape"
      ]
    },
    {
      "cell_type": "code",
      "execution_count": null,
      "metadata": {
        "colab": {
          "base_uri": "https://localhost:8080/"
        },
        "id": "Mz65cd7S-zfJ",
        "outputId": "7c4cb21e-56bd-43a4-ca9e-383de7916d09"
      },
      "outputs": [
        {
          "output_type": "execute_result",
          "data": {
            "text/plain": [
              "CLIENTNUM                   10127\n",
              "Attrition_Flag                  2\n",
              "Customer_Age                   45\n",
              "Gender                          2\n",
              "Dependent_count                 6\n",
              "Education_Level                 7\n",
              "Marital_Status                  4\n",
              "Income_Category                 6\n",
              "Card_Category                   4\n",
              "Months_on_book                 44\n",
              "Total_Relationship_Count        6\n",
              "Months_Inactive_12_mon          7\n",
              "Contacts_Count_12_mon           7\n",
              "Credit_Limit                 6205\n",
              "Total_Revolving_Bal          1974\n",
              "Avg_Open_To_Buy              6813\n",
              "Total_Amt_Chng_Q4_Q1         1158\n",
              "Total_Trans_Amt              5033\n",
              "Total_Trans_Ct                126\n",
              "Total_Ct_Chng_Q4_Q1           830\n",
              "Avg_Utilization_Ratio         964\n",
              "dtype: int64"
            ]
          },
          "metadata": {},
          "execution_count": 6
        }
      ],
      "source": [
        "# There are total of 10127 records as observed with number of unique values in CLIENTNUM. \n",
        "# We can notice that education level of people are varied as well along with income  category.\n",
        "# There are 45 unique values in customer age implying that this information spans across different generations\n",
        "data.nunique()"
      ]
    },
    {
      "cell_type": "code",
      "execution_count": null,
      "metadata": {
        "colab": {
          "base_uri": "https://localhost:8080/"
        },
        "id": "5Ef5nqZD-7W3",
        "outputId": "529cba58-5375-40bb-bcaf-fb2be25ed2d0"
      },
      "outputs": [
        {
          "output_type": "execute_result",
          "data": {
            "text/plain": [
              "array(['Blue', 'Gold', 'Silver', 'Platinum'], dtype=object)"
            ]
          },
          "metadata": {},
          "execution_count": 7
        }
      ],
      "source": [
        "# unique Card Category values \n",
        "data['Card_Category'].unique()"
      ]
    },
    {
      "cell_type": "code",
      "execution_count": null,
      "metadata": {
        "colab": {
          "base_uri": "https://localhost:8080/"
        },
        "id": "weIHcLeQAVOE",
        "outputId": "6b9f3b72-5b01-4c31-888a-5c9e7c0993a7"
      },
      "outputs": [
        {
          "output_type": "execute_result",
          "data": {
            "text/plain": [
              "array(['High School', 'Graduate', 'Uneducated', 'Unknown', 'College',\n",
              "       'Post-Graduate', 'Doctorate'], dtype=object)"
            ]
          },
          "metadata": {},
          "execution_count": 8
        }
      ],
      "source": [
        "# unique education level values \n",
        "data['Education_Level'].unique()"
      ]
    },
    {
      "cell_type": "code",
      "execution_count": null,
      "metadata": {
        "colab": {
          "base_uri": "https://localhost:8080/"
        },
        "id": "X3qwQPZ8_xYN",
        "outputId": "ca3ee6dc-7d31-4626-d646-0f09eaab0c2f"
      },
      "outputs": [
        {
          "output_type": "execute_result",
          "data": {
            "text/plain": [
              "array(['$60K - $80K', 'Less than $40K', '$80K - $120K', '$40K - $60K',\n",
              "       '$120K +', 'Unknown'], dtype=object)"
            ]
          },
          "metadata": {},
          "execution_count": 9
        }
      ],
      "source": [
        "# unique income category values \n",
        "data['Income_Category'].unique()"
      ]
    },
    {
      "cell_type": "code",
      "execution_count": null,
      "metadata": {
        "colab": {
          "base_uri": "https://localhost:8080/"
        },
        "id": "rCMGzDE3AeXp",
        "outputId": "7b1a2309-45ad-415c-f5c7-ebe8435d5d13"
      },
      "outputs": [
        {
          "output_type": "execute_result",
          "data": {
            "text/plain": [
              "array(['Existing Customer', 'Attrited Customer'], dtype=object)"
            ]
          },
          "metadata": {},
          "execution_count": 10
        }
      ],
      "source": [
        "# attrition flag unique values \n",
        "data['Attrition_Flag'].unique()"
      ]
    },
    {
      "cell_type": "code",
      "execution_count": null,
      "metadata": {
        "colab": {
          "base_uri": "https://localhost:8080/"
        },
        "id": "yOASseyZAmub",
        "outputId": "ff355dd5-534e-45fe-93eb-64e5ed36b007"
      },
      "outputs": [
        {
          "output_type": "execute_result",
          "data": {
            "text/plain": [
              "array(['Married', 'Single', 'Unknown', 'Divorced'], dtype=object)"
            ]
          },
          "metadata": {},
          "execution_count": 11
        }
      ],
      "source": [
        "# marital status unique values \n",
        "data['Marital_Status'].unique()"
      ]
    },
    {
      "cell_type": "code",
      "execution_count": null,
      "metadata": {
        "colab": {
          "base_uri": "https://localhost:8080/",
          "height": 488
        },
        "id": "fUroAE7BAyiE",
        "outputId": "de1b84ab-590c-4dc8-e345-31736e3aab38"
      },
      "outputs": [
        {
          "output_type": "execute_result",
          "data": {
            "text/plain": [
              "       CLIENTNUM  Attrition_Flag  Customer_Age  Gender  Dependent_count  \\\n",
              "0          False           False         False   False            False   \n",
              "1          False           False         False   False            False   \n",
              "2          False           False         False   False            False   \n",
              "3          False           False         False   False            False   \n",
              "4          False           False         False   False            False   \n",
              "...          ...             ...           ...     ...              ...   \n",
              "10122      False           False         False   False            False   \n",
              "10123      False           False         False   False            False   \n",
              "10124      False           False         False   False            False   \n",
              "10125      False           False         False   False            False   \n",
              "10126      False           False         False   False            False   \n",
              "\n",
              "       Education_Level  Marital_Status  Income_Category  Card_Category  \\\n",
              "0                False           False            False          False   \n",
              "1                False           False            False          False   \n",
              "2                False           False            False          False   \n",
              "3                False           False            False          False   \n",
              "4                False           False            False          False   \n",
              "...                ...             ...              ...            ...   \n",
              "10122            False           False            False          False   \n",
              "10123            False           False            False          False   \n",
              "10124            False           False            False          False   \n",
              "10125            False           False            False          False   \n",
              "10126            False           False            False          False   \n",
              "\n",
              "       Months_on_book  ...  Months_Inactive_12_mon  Contacts_Count_12_mon  \\\n",
              "0               False  ...                   False                  False   \n",
              "1               False  ...                   False                  False   \n",
              "2               False  ...                   False                  False   \n",
              "3               False  ...                   False                  False   \n",
              "4               False  ...                   False                  False   \n",
              "...               ...  ...                     ...                    ...   \n",
              "10122           False  ...                   False                  False   \n",
              "10123           False  ...                   False                  False   \n",
              "10124           False  ...                   False                  False   \n",
              "10125           False  ...                   False                  False   \n",
              "10126           False  ...                   False                  False   \n",
              "\n",
              "       Credit_Limit  Total_Revolving_Bal  Avg_Open_To_Buy  \\\n",
              "0             False                False            False   \n",
              "1             False                False            False   \n",
              "2             False                False            False   \n",
              "3             False                False            False   \n",
              "4             False                False            False   \n",
              "...             ...                  ...              ...   \n",
              "10122         False                False            False   \n",
              "10123         False                False            False   \n",
              "10124         False                False            False   \n",
              "10125         False                False            False   \n",
              "10126         False                False            False   \n",
              "\n",
              "       Total_Amt_Chng_Q4_Q1  Total_Trans_Amt  Total_Trans_Ct  \\\n",
              "0                     False            False           False   \n",
              "1                     False            False           False   \n",
              "2                     False            False           False   \n",
              "3                     False            False           False   \n",
              "4                     False            False           False   \n",
              "...                     ...              ...             ...   \n",
              "10122                 False            False           False   \n",
              "10123                 False            False           False   \n",
              "10124                 False            False           False   \n",
              "10125                 False            False           False   \n",
              "10126                 False            False           False   \n",
              "\n",
              "       Total_Ct_Chng_Q4_Q1  Avg_Utilization_Ratio  \n",
              "0                    False                  False  \n",
              "1                    False                  False  \n",
              "2                    False                  False  \n",
              "3                    False                  False  \n",
              "4                    False                  False  \n",
              "...                    ...                    ...  \n",
              "10122                False                  False  \n",
              "10123                False                  False  \n",
              "10124                False                  False  \n",
              "10125                False                  False  \n",
              "10126                False                  False  \n",
              "\n",
              "[10127 rows x 21 columns]"
            ],
            "text/html": [
              "\n",
              "  <div id=\"df-36a5673a-9afe-4aa0-a771-fc3b5ffd6fa3\">\n",
              "    <div class=\"colab-df-container\">\n",
              "      <div>\n",
              "<style scoped>\n",
              "    .dataframe tbody tr th:only-of-type {\n",
              "        vertical-align: middle;\n",
              "    }\n",
              "\n",
              "    .dataframe tbody tr th {\n",
              "        vertical-align: top;\n",
              "    }\n",
              "\n",
              "    .dataframe thead th {\n",
              "        text-align: right;\n",
              "    }\n",
              "</style>\n",
              "<table border=\"1\" class=\"dataframe\">\n",
              "  <thead>\n",
              "    <tr style=\"text-align: right;\">\n",
              "      <th></th>\n",
              "      <th>CLIENTNUM</th>\n",
              "      <th>Attrition_Flag</th>\n",
              "      <th>Customer_Age</th>\n",
              "      <th>Gender</th>\n",
              "      <th>Dependent_count</th>\n",
              "      <th>Education_Level</th>\n",
              "      <th>Marital_Status</th>\n",
              "      <th>Income_Category</th>\n",
              "      <th>Card_Category</th>\n",
              "      <th>Months_on_book</th>\n",
              "      <th>...</th>\n",
              "      <th>Months_Inactive_12_mon</th>\n",
              "      <th>Contacts_Count_12_mon</th>\n",
              "      <th>Credit_Limit</th>\n",
              "      <th>Total_Revolving_Bal</th>\n",
              "      <th>Avg_Open_To_Buy</th>\n",
              "      <th>Total_Amt_Chng_Q4_Q1</th>\n",
              "      <th>Total_Trans_Amt</th>\n",
              "      <th>Total_Trans_Ct</th>\n",
              "      <th>Total_Ct_Chng_Q4_Q1</th>\n",
              "      <th>Avg_Utilization_Ratio</th>\n",
              "    </tr>\n",
              "  </thead>\n",
              "  <tbody>\n",
              "    <tr>\n",
              "      <th>0</th>\n",
              "      <td>False</td>\n",
              "      <td>False</td>\n",
              "      <td>False</td>\n",
              "      <td>False</td>\n",
              "      <td>False</td>\n",
              "      <td>False</td>\n",
              "      <td>False</td>\n",
              "      <td>False</td>\n",
              "      <td>False</td>\n",
              "      <td>False</td>\n",
              "      <td>...</td>\n",
              "      <td>False</td>\n",
              "      <td>False</td>\n",
              "      <td>False</td>\n",
              "      <td>False</td>\n",
              "      <td>False</td>\n",
              "      <td>False</td>\n",
              "      <td>False</td>\n",
              "      <td>False</td>\n",
              "      <td>False</td>\n",
              "      <td>False</td>\n",
              "    </tr>\n",
              "    <tr>\n",
              "      <th>1</th>\n",
              "      <td>False</td>\n",
              "      <td>False</td>\n",
              "      <td>False</td>\n",
              "      <td>False</td>\n",
              "      <td>False</td>\n",
              "      <td>False</td>\n",
              "      <td>False</td>\n",
              "      <td>False</td>\n",
              "      <td>False</td>\n",
              "      <td>False</td>\n",
              "      <td>...</td>\n",
              "      <td>False</td>\n",
              "      <td>False</td>\n",
              "      <td>False</td>\n",
              "      <td>False</td>\n",
              "      <td>False</td>\n",
              "      <td>False</td>\n",
              "      <td>False</td>\n",
              "      <td>False</td>\n",
              "      <td>False</td>\n",
              "      <td>False</td>\n",
              "    </tr>\n",
              "    <tr>\n",
              "      <th>2</th>\n",
              "      <td>False</td>\n",
              "      <td>False</td>\n",
              "      <td>False</td>\n",
              "      <td>False</td>\n",
              "      <td>False</td>\n",
              "      <td>False</td>\n",
              "      <td>False</td>\n",
              "      <td>False</td>\n",
              "      <td>False</td>\n",
              "      <td>False</td>\n",
              "      <td>...</td>\n",
              "      <td>False</td>\n",
              "      <td>False</td>\n",
              "      <td>False</td>\n",
              "      <td>False</td>\n",
              "      <td>False</td>\n",
              "      <td>False</td>\n",
              "      <td>False</td>\n",
              "      <td>False</td>\n",
              "      <td>False</td>\n",
              "      <td>False</td>\n",
              "    </tr>\n",
              "    <tr>\n",
              "      <th>3</th>\n",
              "      <td>False</td>\n",
              "      <td>False</td>\n",
              "      <td>False</td>\n",
              "      <td>False</td>\n",
              "      <td>False</td>\n",
              "      <td>False</td>\n",
              "      <td>False</td>\n",
              "      <td>False</td>\n",
              "      <td>False</td>\n",
              "      <td>False</td>\n",
              "      <td>...</td>\n",
              "      <td>False</td>\n",
              "      <td>False</td>\n",
              "      <td>False</td>\n",
              "      <td>False</td>\n",
              "      <td>False</td>\n",
              "      <td>False</td>\n",
              "      <td>False</td>\n",
              "      <td>False</td>\n",
              "      <td>False</td>\n",
              "      <td>False</td>\n",
              "    </tr>\n",
              "    <tr>\n",
              "      <th>4</th>\n",
              "      <td>False</td>\n",
              "      <td>False</td>\n",
              "      <td>False</td>\n",
              "      <td>False</td>\n",
              "      <td>False</td>\n",
              "      <td>False</td>\n",
              "      <td>False</td>\n",
              "      <td>False</td>\n",
              "      <td>False</td>\n",
              "      <td>False</td>\n",
              "      <td>...</td>\n",
              "      <td>False</td>\n",
              "      <td>False</td>\n",
              "      <td>False</td>\n",
              "      <td>False</td>\n",
              "      <td>False</td>\n",
              "      <td>False</td>\n",
              "      <td>False</td>\n",
              "      <td>False</td>\n",
              "      <td>False</td>\n",
              "      <td>False</td>\n",
              "    </tr>\n",
              "    <tr>\n",
              "      <th>...</th>\n",
              "      <td>...</td>\n",
              "      <td>...</td>\n",
              "      <td>...</td>\n",
              "      <td>...</td>\n",
              "      <td>...</td>\n",
              "      <td>...</td>\n",
              "      <td>...</td>\n",
              "      <td>...</td>\n",
              "      <td>...</td>\n",
              "      <td>...</td>\n",
              "      <td>...</td>\n",
              "      <td>...</td>\n",
              "      <td>...</td>\n",
              "      <td>...</td>\n",
              "      <td>...</td>\n",
              "      <td>...</td>\n",
              "      <td>...</td>\n",
              "      <td>...</td>\n",
              "      <td>...</td>\n",
              "      <td>...</td>\n",
              "      <td>...</td>\n",
              "    </tr>\n",
              "    <tr>\n",
              "      <th>10122</th>\n",
              "      <td>False</td>\n",
              "      <td>False</td>\n",
              "      <td>False</td>\n",
              "      <td>False</td>\n",
              "      <td>False</td>\n",
              "      <td>False</td>\n",
              "      <td>False</td>\n",
              "      <td>False</td>\n",
              "      <td>False</td>\n",
              "      <td>False</td>\n",
              "      <td>...</td>\n",
              "      <td>False</td>\n",
              "      <td>False</td>\n",
              "      <td>False</td>\n",
              "      <td>False</td>\n",
              "      <td>False</td>\n",
              "      <td>False</td>\n",
              "      <td>False</td>\n",
              "      <td>False</td>\n",
              "      <td>False</td>\n",
              "      <td>False</td>\n",
              "    </tr>\n",
              "    <tr>\n",
              "      <th>10123</th>\n",
              "      <td>False</td>\n",
              "      <td>False</td>\n",
              "      <td>False</td>\n",
              "      <td>False</td>\n",
              "      <td>False</td>\n",
              "      <td>False</td>\n",
              "      <td>False</td>\n",
              "      <td>False</td>\n",
              "      <td>False</td>\n",
              "      <td>False</td>\n",
              "      <td>...</td>\n",
              "      <td>False</td>\n",
              "      <td>False</td>\n",
              "      <td>False</td>\n",
              "      <td>False</td>\n",
              "      <td>False</td>\n",
              "      <td>False</td>\n",
              "      <td>False</td>\n",
              "      <td>False</td>\n",
              "      <td>False</td>\n",
              "      <td>False</td>\n",
              "    </tr>\n",
              "    <tr>\n",
              "      <th>10124</th>\n",
              "      <td>False</td>\n",
              "      <td>False</td>\n",
              "      <td>False</td>\n",
              "      <td>False</td>\n",
              "      <td>False</td>\n",
              "      <td>False</td>\n",
              "      <td>False</td>\n",
              "      <td>False</td>\n",
              "      <td>False</td>\n",
              "      <td>False</td>\n",
              "      <td>...</td>\n",
              "      <td>False</td>\n",
              "      <td>False</td>\n",
              "      <td>False</td>\n",
              "      <td>False</td>\n",
              "      <td>False</td>\n",
              "      <td>False</td>\n",
              "      <td>False</td>\n",
              "      <td>False</td>\n",
              "      <td>False</td>\n",
              "      <td>False</td>\n",
              "    </tr>\n",
              "    <tr>\n",
              "      <th>10125</th>\n",
              "      <td>False</td>\n",
              "      <td>False</td>\n",
              "      <td>False</td>\n",
              "      <td>False</td>\n",
              "      <td>False</td>\n",
              "      <td>False</td>\n",
              "      <td>False</td>\n",
              "      <td>False</td>\n",
              "      <td>False</td>\n",
              "      <td>False</td>\n",
              "      <td>...</td>\n",
              "      <td>False</td>\n",
              "      <td>False</td>\n",
              "      <td>False</td>\n",
              "      <td>False</td>\n",
              "      <td>False</td>\n",
              "      <td>False</td>\n",
              "      <td>False</td>\n",
              "      <td>False</td>\n",
              "      <td>False</td>\n",
              "      <td>False</td>\n",
              "    </tr>\n",
              "    <tr>\n",
              "      <th>10126</th>\n",
              "      <td>False</td>\n",
              "      <td>False</td>\n",
              "      <td>False</td>\n",
              "      <td>False</td>\n",
              "      <td>False</td>\n",
              "      <td>False</td>\n",
              "      <td>False</td>\n",
              "      <td>False</td>\n",
              "      <td>False</td>\n",
              "      <td>False</td>\n",
              "      <td>...</td>\n",
              "      <td>False</td>\n",
              "      <td>False</td>\n",
              "      <td>False</td>\n",
              "      <td>False</td>\n",
              "      <td>False</td>\n",
              "      <td>False</td>\n",
              "      <td>False</td>\n",
              "      <td>False</td>\n",
              "      <td>False</td>\n",
              "      <td>False</td>\n",
              "    </tr>\n",
              "  </tbody>\n",
              "</table>\n",
              "<p>10127 rows × 21 columns</p>\n",
              "</div>\n",
              "      <button class=\"colab-df-convert\" onclick=\"convertToInteractive('df-36a5673a-9afe-4aa0-a771-fc3b5ffd6fa3')\"\n",
              "              title=\"Convert this dataframe to an interactive table.\"\n",
              "              style=\"display:none;\">\n",
              "        \n",
              "  <svg xmlns=\"http://www.w3.org/2000/svg\" height=\"24px\"viewBox=\"0 0 24 24\"\n",
              "       width=\"24px\">\n",
              "    <path d=\"M0 0h24v24H0V0z\" fill=\"none\"/>\n",
              "    <path d=\"M18.56 5.44l.94 2.06.94-2.06 2.06-.94-2.06-.94-.94-2.06-.94 2.06-2.06.94zm-11 1L8.5 8.5l.94-2.06 2.06-.94-2.06-.94L8.5 2.5l-.94 2.06-2.06.94zm10 10l.94 2.06.94-2.06 2.06-.94-2.06-.94-.94-2.06-.94 2.06-2.06.94z\"/><path d=\"M17.41 7.96l-1.37-1.37c-.4-.4-.92-.59-1.43-.59-.52 0-1.04.2-1.43.59L10.3 9.45l-7.72 7.72c-.78.78-.78 2.05 0 2.83L4 21.41c.39.39.9.59 1.41.59.51 0 1.02-.2 1.41-.59l7.78-7.78 2.81-2.81c.8-.78.8-2.07 0-2.86zM5.41 20L4 18.59l7.72-7.72 1.47 1.35L5.41 20z\"/>\n",
              "  </svg>\n",
              "      </button>\n",
              "      \n",
              "  <style>\n",
              "    .colab-df-container {\n",
              "      display:flex;\n",
              "      flex-wrap:wrap;\n",
              "      gap: 12px;\n",
              "    }\n",
              "\n",
              "    .colab-df-convert {\n",
              "      background-color: #E8F0FE;\n",
              "      border: none;\n",
              "      border-radius: 50%;\n",
              "      cursor: pointer;\n",
              "      display: none;\n",
              "      fill: #1967D2;\n",
              "      height: 32px;\n",
              "      padding: 0 0 0 0;\n",
              "      width: 32px;\n",
              "    }\n",
              "\n",
              "    .colab-df-convert:hover {\n",
              "      background-color: #E2EBFA;\n",
              "      box-shadow: 0px 1px 2px rgba(60, 64, 67, 0.3), 0px 1px 3px 1px rgba(60, 64, 67, 0.15);\n",
              "      fill: #174EA6;\n",
              "    }\n",
              "\n",
              "    [theme=dark] .colab-df-convert {\n",
              "      background-color: #3B4455;\n",
              "      fill: #D2E3FC;\n",
              "    }\n",
              "\n",
              "    [theme=dark] .colab-df-convert:hover {\n",
              "      background-color: #434B5C;\n",
              "      box-shadow: 0px 1px 3px 1px rgba(0, 0, 0, 0.15);\n",
              "      filter: drop-shadow(0px 1px 2px rgba(0, 0, 0, 0.3));\n",
              "      fill: #FFFFFF;\n",
              "    }\n",
              "  </style>\n",
              "\n",
              "      <script>\n",
              "        const buttonEl =\n",
              "          document.querySelector('#df-36a5673a-9afe-4aa0-a771-fc3b5ffd6fa3 button.colab-df-convert');\n",
              "        buttonEl.style.display =\n",
              "          google.colab.kernel.accessAllowed ? 'block' : 'none';\n",
              "\n",
              "        async function convertToInteractive(key) {\n",
              "          const element = document.querySelector('#df-36a5673a-9afe-4aa0-a771-fc3b5ffd6fa3');\n",
              "          const dataTable =\n",
              "            await google.colab.kernel.invokeFunction('convertToInteractive',\n",
              "                                                     [key], {});\n",
              "          if (!dataTable) return;\n",
              "\n",
              "          const docLinkHtml = 'Like what you see? Visit the ' +\n",
              "            '<a target=\"_blank\" href=https://colab.research.google.com/notebooks/data_table.ipynb>data table notebook</a>'\n",
              "            + ' to learn more about interactive tables.';\n",
              "          element.innerHTML = '';\n",
              "          dataTable['output_type'] = 'display_data';\n",
              "          await google.colab.output.renderOutput(dataTable, element);\n",
              "          const docLink = document.createElement('div');\n",
              "          docLink.innerHTML = docLinkHtml;\n",
              "          element.appendChild(docLink);\n",
              "        }\n",
              "      </script>\n",
              "    </div>\n",
              "  </div>\n",
              "  "
            ]
          },
          "metadata": {},
          "execution_count": 12
        }
      ],
      "source": [
        "# identifying missing values\n",
        "data.isnull()"
      ]
    },
    {
      "cell_type": "code",
      "execution_count": null,
      "metadata": {
        "colab": {
          "base_uri": "https://localhost:8080/"
        },
        "id": "ehX_oLxICSWl",
        "outputId": "b37185e7-369f-42f0-edf3-a5ef6dae26d3"
      },
      "outputs": [
        {
          "output_type": "execute_result",
          "data": {
            "text/plain": [
              "CLIENTNUM                   0\n",
              "Attrition_Flag              0\n",
              "Customer_Age                0\n",
              "Gender                      0\n",
              "Dependent_count             0\n",
              "Education_Level             0\n",
              "Marital_Status              0\n",
              "Income_Category             0\n",
              "Card_Category               0\n",
              "Months_on_book              0\n",
              "Total_Relationship_Count    0\n",
              "Months_Inactive_12_mon      0\n",
              "Contacts_Count_12_mon       0\n",
              "Credit_Limit                0\n",
              "Total_Revolving_Bal         0\n",
              "Avg_Open_To_Buy             0\n",
              "Total_Amt_Chng_Q4_Q1        0\n",
              "Total_Trans_Amt             0\n",
              "Total_Trans_Ct              0\n",
              "Total_Ct_Chng_Q4_Q1         0\n",
              "Avg_Utilization_Ratio       0\n",
              "dtype: int64"
            ]
          },
          "metadata": {},
          "execution_count": 13
        }
      ],
      "source": [
        "# No null values in the dataset\n",
        "data.isnull().sum()"
      ]
    },
    {
      "cell_type": "code",
      "execution_count": null,
      "metadata": {
        "id": "fkOyx2uRGddp"
      },
      "outputs": [],
      "source": [
        "scaler = MinMaxScaler()"
      ]
    },
    {
      "cell_type": "code",
      "execution_count": null,
      "metadata": {
        "id": "Q6WDQ35LFg88"
      },
      "outputs": [],
      "source": [
        "data[['Total_Revolving_Bal','Avg_Open_To_Buy','Total_Amt_Chng_Q4_Q1','Total_Trans_Amt','Total_Trans_Ct','Total_Ct_Chng_Q4_Q1']] = scaler.fit_transform(data[['Total_Revolving_Bal','Avg_Open_To_Buy','Total_Amt_Chng_Q4_Q1','Total_Trans_Amt','Total_Trans_Ct','Total_Ct_Chng_Q4_Q1']])"
      ]
    },
    {
      "cell_type": "code",
      "execution_count": null,
      "metadata": {
        "colab": {
          "base_uri": "https://localhost:8080/",
          "height": 386
        },
        "id": "ZSkQ4v8KGI-8",
        "outputId": "504a7627-2368-4917-efe5-15a8c7e7a1d7"
      },
      "outputs": [
        {
          "output_type": "execute_result",
          "data": {
            "text/plain": [
              "   CLIENTNUM     Attrition_Flag  Customer_Age Gender  Dependent_count  \\\n",
              "0  768805383  Existing Customer            45      M                3   \n",
              "1  818770008  Existing Customer            49      F                5   \n",
              "2  713982108  Existing Customer            51      M                3   \n",
              "3  769911858  Existing Customer            40      F                4   \n",
              "4  709106358  Existing Customer            40      M                3   \n",
              "\n",
              "  Education_Level Marital_Status Income_Category Card_Category  \\\n",
              "0     High School        Married     $60K - $80K          Blue   \n",
              "1        Graduate         Single  Less than $40K          Blue   \n",
              "2        Graduate        Married    $80K - $120K          Blue   \n",
              "3     High School        Unknown  Less than $40K          Blue   \n",
              "4      Uneducated        Married     $60K - $80K          Blue   \n",
              "\n",
              "   Months_on_book  ...  Months_Inactive_12_mon  Contacts_Count_12_mon  \\\n",
              "0              39  ...                       1                      3   \n",
              "1              44  ...                       1                      2   \n",
              "2              36  ...                       1                      0   \n",
              "3              34  ...                       4                      1   \n",
              "4              21  ...                       1                      0   \n",
              "\n",
              "   Credit_Limit  Total_Revolving_Bal  Avg_Open_To_Buy  Total_Amt_Chng_Q4_Q1  \\\n",
              "0       12691.0             0.308701         0.345116              0.392994   \n",
              "1        8256.0             0.343266         0.214093              0.453636   \n",
              "2        3418.0             0.000000         0.098948              0.763615   \n",
              "3        3313.0             1.000000         0.022977              0.413600   \n",
              "4        4716.0             0.000000         0.136557              0.640271   \n",
              "\n",
              "   Total_Trans_Amt  Total_Trans_Ct  Total_Ct_Chng_Q4_Q1  Avg_Utilization_Ratio  \n",
              "0         0.035273        0.248062             0.437534                  0.061  \n",
              "1         0.043452        0.178295             1.000000                  0.105  \n",
              "2         0.076611        0.077519             0.628164                  0.000  \n",
              "3         0.036775        0.077519             0.628164                  0.760  \n",
              "4         0.017025        0.139535             0.673129                  0.000  \n",
              "\n",
              "[5 rows x 21 columns]"
            ],
            "text/html": [
              "\n",
              "  <div id=\"df-eef20d94-eb65-466d-88d4-a08eb2025d5b\">\n",
              "    <div class=\"colab-df-container\">\n",
              "      <div>\n",
              "<style scoped>\n",
              "    .dataframe tbody tr th:only-of-type {\n",
              "        vertical-align: middle;\n",
              "    }\n",
              "\n",
              "    .dataframe tbody tr th {\n",
              "        vertical-align: top;\n",
              "    }\n",
              "\n",
              "    .dataframe thead th {\n",
              "        text-align: right;\n",
              "    }\n",
              "</style>\n",
              "<table border=\"1\" class=\"dataframe\">\n",
              "  <thead>\n",
              "    <tr style=\"text-align: right;\">\n",
              "      <th></th>\n",
              "      <th>CLIENTNUM</th>\n",
              "      <th>Attrition_Flag</th>\n",
              "      <th>Customer_Age</th>\n",
              "      <th>Gender</th>\n",
              "      <th>Dependent_count</th>\n",
              "      <th>Education_Level</th>\n",
              "      <th>Marital_Status</th>\n",
              "      <th>Income_Category</th>\n",
              "      <th>Card_Category</th>\n",
              "      <th>Months_on_book</th>\n",
              "      <th>...</th>\n",
              "      <th>Months_Inactive_12_mon</th>\n",
              "      <th>Contacts_Count_12_mon</th>\n",
              "      <th>Credit_Limit</th>\n",
              "      <th>Total_Revolving_Bal</th>\n",
              "      <th>Avg_Open_To_Buy</th>\n",
              "      <th>Total_Amt_Chng_Q4_Q1</th>\n",
              "      <th>Total_Trans_Amt</th>\n",
              "      <th>Total_Trans_Ct</th>\n",
              "      <th>Total_Ct_Chng_Q4_Q1</th>\n",
              "      <th>Avg_Utilization_Ratio</th>\n",
              "    </tr>\n",
              "  </thead>\n",
              "  <tbody>\n",
              "    <tr>\n",
              "      <th>0</th>\n",
              "      <td>768805383</td>\n",
              "      <td>Existing Customer</td>\n",
              "      <td>45</td>\n",
              "      <td>M</td>\n",
              "      <td>3</td>\n",
              "      <td>High School</td>\n",
              "      <td>Married</td>\n",
              "      <td>$60K - $80K</td>\n",
              "      <td>Blue</td>\n",
              "      <td>39</td>\n",
              "      <td>...</td>\n",
              "      <td>1</td>\n",
              "      <td>3</td>\n",
              "      <td>12691.0</td>\n",
              "      <td>0.308701</td>\n",
              "      <td>0.345116</td>\n",
              "      <td>0.392994</td>\n",
              "      <td>0.035273</td>\n",
              "      <td>0.248062</td>\n",
              "      <td>0.437534</td>\n",
              "      <td>0.061</td>\n",
              "    </tr>\n",
              "    <tr>\n",
              "      <th>1</th>\n",
              "      <td>818770008</td>\n",
              "      <td>Existing Customer</td>\n",
              "      <td>49</td>\n",
              "      <td>F</td>\n",
              "      <td>5</td>\n",
              "      <td>Graduate</td>\n",
              "      <td>Single</td>\n",
              "      <td>Less than $40K</td>\n",
              "      <td>Blue</td>\n",
              "      <td>44</td>\n",
              "      <td>...</td>\n",
              "      <td>1</td>\n",
              "      <td>2</td>\n",
              "      <td>8256.0</td>\n",
              "      <td>0.343266</td>\n",
              "      <td>0.214093</td>\n",
              "      <td>0.453636</td>\n",
              "      <td>0.043452</td>\n",
              "      <td>0.178295</td>\n",
              "      <td>1.000000</td>\n",
              "      <td>0.105</td>\n",
              "    </tr>\n",
              "    <tr>\n",
              "      <th>2</th>\n",
              "      <td>713982108</td>\n",
              "      <td>Existing Customer</td>\n",
              "      <td>51</td>\n",
              "      <td>M</td>\n",
              "      <td>3</td>\n",
              "      <td>Graduate</td>\n",
              "      <td>Married</td>\n",
              "      <td>$80K - $120K</td>\n",
              "      <td>Blue</td>\n",
              "      <td>36</td>\n",
              "      <td>...</td>\n",
              "      <td>1</td>\n",
              "      <td>0</td>\n",
              "      <td>3418.0</td>\n",
              "      <td>0.000000</td>\n",
              "      <td>0.098948</td>\n",
              "      <td>0.763615</td>\n",
              "      <td>0.076611</td>\n",
              "      <td>0.077519</td>\n",
              "      <td>0.628164</td>\n",
              "      <td>0.000</td>\n",
              "    </tr>\n",
              "    <tr>\n",
              "      <th>3</th>\n",
              "      <td>769911858</td>\n",
              "      <td>Existing Customer</td>\n",
              "      <td>40</td>\n",
              "      <td>F</td>\n",
              "      <td>4</td>\n",
              "      <td>High School</td>\n",
              "      <td>Unknown</td>\n",
              "      <td>Less than $40K</td>\n",
              "      <td>Blue</td>\n",
              "      <td>34</td>\n",
              "      <td>...</td>\n",
              "      <td>4</td>\n",
              "      <td>1</td>\n",
              "      <td>3313.0</td>\n",
              "      <td>1.000000</td>\n",
              "      <td>0.022977</td>\n",
              "      <td>0.413600</td>\n",
              "      <td>0.036775</td>\n",
              "      <td>0.077519</td>\n",
              "      <td>0.628164</td>\n",
              "      <td>0.760</td>\n",
              "    </tr>\n",
              "    <tr>\n",
              "      <th>4</th>\n",
              "      <td>709106358</td>\n",
              "      <td>Existing Customer</td>\n",
              "      <td>40</td>\n",
              "      <td>M</td>\n",
              "      <td>3</td>\n",
              "      <td>Uneducated</td>\n",
              "      <td>Married</td>\n",
              "      <td>$60K - $80K</td>\n",
              "      <td>Blue</td>\n",
              "      <td>21</td>\n",
              "      <td>...</td>\n",
              "      <td>1</td>\n",
              "      <td>0</td>\n",
              "      <td>4716.0</td>\n",
              "      <td>0.000000</td>\n",
              "      <td>0.136557</td>\n",
              "      <td>0.640271</td>\n",
              "      <td>0.017025</td>\n",
              "      <td>0.139535</td>\n",
              "      <td>0.673129</td>\n",
              "      <td>0.000</td>\n",
              "    </tr>\n",
              "  </tbody>\n",
              "</table>\n",
              "<p>5 rows × 21 columns</p>\n",
              "</div>\n",
              "      <button class=\"colab-df-convert\" onclick=\"convertToInteractive('df-eef20d94-eb65-466d-88d4-a08eb2025d5b')\"\n",
              "              title=\"Convert this dataframe to an interactive table.\"\n",
              "              style=\"display:none;\">\n",
              "        \n",
              "  <svg xmlns=\"http://www.w3.org/2000/svg\" height=\"24px\"viewBox=\"0 0 24 24\"\n",
              "       width=\"24px\">\n",
              "    <path d=\"M0 0h24v24H0V0z\" fill=\"none\"/>\n",
              "    <path d=\"M18.56 5.44l.94 2.06.94-2.06 2.06-.94-2.06-.94-.94-2.06-.94 2.06-2.06.94zm-11 1L8.5 8.5l.94-2.06 2.06-.94-2.06-.94L8.5 2.5l-.94 2.06-2.06.94zm10 10l.94 2.06.94-2.06 2.06-.94-2.06-.94-.94-2.06-.94 2.06-2.06.94z\"/><path d=\"M17.41 7.96l-1.37-1.37c-.4-.4-.92-.59-1.43-.59-.52 0-1.04.2-1.43.59L10.3 9.45l-7.72 7.72c-.78.78-.78 2.05 0 2.83L4 21.41c.39.39.9.59 1.41.59.51 0 1.02-.2 1.41-.59l7.78-7.78 2.81-2.81c.8-.78.8-2.07 0-2.86zM5.41 20L4 18.59l7.72-7.72 1.47 1.35L5.41 20z\"/>\n",
              "  </svg>\n",
              "      </button>\n",
              "      \n",
              "  <style>\n",
              "    .colab-df-container {\n",
              "      display:flex;\n",
              "      flex-wrap:wrap;\n",
              "      gap: 12px;\n",
              "    }\n",
              "\n",
              "    .colab-df-convert {\n",
              "      background-color: #E8F0FE;\n",
              "      border: none;\n",
              "      border-radius: 50%;\n",
              "      cursor: pointer;\n",
              "      display: none;\n",
              "      fill: #1967D2;\n",
              "      height: 32px;\n",
              "      padding: 0 0 0 0;\n",
              "      width: 32px;\n",
              "    }\n",
              "\n",
              "    .colab-df-convert:hover {\n",
              "      background-color: #E2EBFA;\n",
              "      box-shadow: 0px 1px 2px rgba(60, 64, 67, 0.3), 0px 1px 3px 1px rgba(60, 64, 67, 0.15);\n",
              "      fill: #174EA6;\n",
              "    }\n",
              "\n",
              "    [theme=dark] .colab-df-convert {\n",
              "      background-color: #3B4455;\n",
              "      fill: #D2E3FC;\n",
              "    }\n",
              "\n",
              "    [theme=dark] .colab-df-convert:hover {\n",
              "      background-color: #434B5C;\n",
              "      box-shadow: 0px 1px 3px 1px rgba(0, 0, 0, 0.15);\n",
              "      filter: drop-shadow(0px 1px 2px rgba(0, 0, 0, 0.3));\n",
              "      fill: #FFFFFF;\n",
              "    }\n",
              "  </style>\n",
              "\n",
              "      <script>\n",
              "        const buttonEl =\n",
              "          document.querySelector('#df-eef20d94-eb65-466d-88d4-a08eb2025d5b button.colab-df-convert');\n",
              "        buttonEl.style.display =\n",
              "          google.colab.kernel.accessAllowed ? 'block' : 'none';\n",
              "\n",
              "        async function convertToInteractive(key) {\n",
              "          const element = document.querySelector('#df-eef20d94-eb65-466d-88d4-a08eb2025d5b');\n",
              "          const dataTable =\n",
              "            await google.colab.kernel.invokeFunction('convertToInteractive',\n",
              "                                                     [key], {});\n",
              "          if (!dataTable) return;\n",
              "\n",
              "          const docLinkHtml = 'Like what you see? Visit the ' +\n",
              "            '<a target=\"_blank\" href=https://colab.research.google.com/notebooks/data_table.ipynb>data table notebook</a>'\n",
              "            + ' to learn more about interactive tables.';\n",
              "          element.innerHTML = '';\n",
              "          dataTable['output_type'] = 'display_data';\n",
              "          await google.colab.output.renderOutput(dataTable, element);\n",
              "          const docLink = document.createElement('div');\n",
              "          docLink.innerHTML = docLinkHtml;\n",
              "          element.appendChild(docLink);\n",
              "        }\n",
              "      </script>\n",
              "    </div>\n",
              "  </div>\n",
              "  "
            ]
          },
          "metadata": {},
          "execution_count": 78
        }
      ],
      "source": [
        "# After min max normalisation, above mentioned columns' data is fitted into the range 0 to 1 \n",
        "data.head()"
      ]
    },
    {
      "cell_type": "code",
      "source": [
        "from sklearn import preprocessing\n",
        "le= preprocessing.LabelEncoder()\n",
        "data['Card_Category']=le.fit_transform(data['Card_Category'])\n",
        "data['Attrition_Flag']=le.fit_transform(data['Attrition_Flag'])"
      ],
      "metadata": {
        "id": "VJq6sVu5Uc4e"
      },
      "execution_count": null,
      "outputs": []
    },
    {
      "cell_type": "code",
      "execution_count": null,
      "metadata": {
        "id": "2dDmtOsgGMUe"
      },
      "outputs": [],
      "source": [
        "# KNN Model\n",
        "X=data.drop(['CLIENTNUM','Gender','Education_Level','Marital_Status','Income_Category','Card_Category'], axis=1)\n",
        "y=data.Card_Category\n",
        "X_train, X_test, y_train, y_test = train_test_split(X, y, test_size=0.3, random_state=5)"
      ]
    },
    {
      "cell_type": "code",
      "execution_count": null,
      "metadata": {
        "id": "BEMY3ce9Jgui"
      },
      "outputs": [],
      "source": [
        "# p=1 means manhattan \n",
        "# p=2 means euclidean \n",
        "# no p means minkowski"
      ]
    },
    {
      "cell_type": "code",
      "execution_count": null,
      "metadata": {
        "colab": {
          "base_uri": "https://localhost:8080/"
        },
        "id": "UoJdWIzwOEBw",
        "outputId": "dc215296-1689-4fb3-b898-1105ff936ffd"
      },
      "outputs": [
        {
          "output_type": "execute_result",
          "data": {
            "text/plain": [
              "KNeighborsClassifier()"
            ]
          },
          "metadata": {},
          "execution_count": 82
        }
      ],
      "source": [
        "# for k = 20, euclidean distance\n",
        "knn = KNeighborsClassifier(n_neighbors=5, p=2)\n",
        "knn.fit(X_train, y_train)"
      ]
    },
    {
      "cell_type": "code",
      "execution_count": null,
      "metadata": {
        "colab": {
          "base_uri": "https://localhost:8080/"
        },
        "id": "cJ8CRJORJizB",
        "outputId": "25c3ec3e-0e25-4717-90bb-4a6166aadce3"
      },
      "outputs": [
        {
          "output_type": "execute_result",
          "data": {
            "text/plain": [
              "0.9302402105955907"
            ]
          },
          "metadata": {},
          "execution_count": 83
        }
      ],
      "source": [
        "knn.score(X_test, y_test)"
      ]
    },
    {
      "cell_type": "code",
      "source": [
        "y_pred = knn.predict(X_test)"
      ],
      "metadata": {
        "id": "dEsAQ9RYSrvG"
      },
      "execution_count": null,
      "outputs": []
    },
    {
      "cell_type": "code",
      "source": [
        "cm = confusion_matrix(y_pred,y_test)\n",
        "print(\"Confusion Matrix Result: \")\n",
        "print(cm)"
      ],
      "metadata": {
        "colab": {
          "base_uri": "https://localhost:8080/"
        },
        "id": "7UDJgvnSZB4c",
        "outputId": "74b59388-0dbd-44aa-d038-144e7d404f67"
      },
      "execution_count": null,
      "outputs": [
        {
          "output_type": "stream",
          "name": "stdout",
          "text": [
            "Confusion Matrix Result: \n",
            "[[2787   18    2  124]\n",
            " [   6    8    0    1]\n",
            " [   1    1    0    0]\n",
            " [  45   13    1   32]]\n"
          ]
        }
      ]
    },
    {
      "cell_type": "code",
      "source": [
        "sns.heatmap(cm,annot=True,fmt='d',linecolor = 'white',linewidths=5)"
      ],
      "metadata": {
        "colab": {
          "base_uri": "https://localhost:8080/",
          "height": 282
        },
        "id": "S5s6iGVccp5p",
        "outputId": "b96a72de-3baf-46d6-f822-fb9774dbcf77"
      },
      "execution_count": null,
      "outputs": [
        {
          "output_type": "execute_result",
          "data": {
            "text/plain": [
              "<matplotlib.axes._subplots.AxesSubplot at 0x7f17942c6250>"
            ]
          },
          "metadata": {},
          "execution_count": 86
        },
        {
          "output_type": "display_data",
          "data": {
            "text/plain": [
              "<Figure size 432x288 with 2 Axes>"
            ],
            "image/png": "[encoded data removed]"
          },
          "metadata": {
            "needs_background": "light"
          }
        }
      ]
    },
    {
      "cell_type": "code",
      "source": [
        "# For Minkowski\n",
        "K=[]\n",
        "training = []\n",
        "test=[]\n",
        "scores={}\n",
        "\n",
        "for k in range(2,7):\n",
        "  clf = KNeighborsClassifier(n_neighbors = k)\n",
        "  clf.fit(X_train, y_train)\n",
        "\n",
        "  training_score = clf.score(X_train, y_train)\n",
        "  test_score = clf.score(X_test, y_test)\n",
        "  K.append(k)\n",
        "\n",
        "  training.append(training_score)\n",
        "  test.append(test_score)\n",
        "  scores[k] = [training_score, test_score]\n",
        "\n",
        "print(\"Accuracy Scores\")\n",
        "for keys, values in scores.items():\n",
        "  print(keys, ':', values)\n"
      ],
      "metadata": {
        "colab": {
          "base_uri": "https://localhost:8080/"
        },
        "id": "GCrccSfZdGtN",
        "outputId": "7bb8ccc5-7a2f-4739-cf1e-cbadacd05652"
      },
      "execution_count": null,
      "outputs": [
        {
          "output_type": "stream",
          "name": "stdout",
          "text": [
            "Accuracy Scores\n",
            "2 : [0.9552765237020316, 0.9279368213228035]\n",
            "3 : [0.9521726862302483, 0.924646265218822]\n",
            "4 : [0.9454006772009029, 0.9338598223099703]\n",
            "5 : [0.9434255079006773, 0.9302402105955907]\n",
            "6 : [0.9415914221218962, 0.9361632115827575]\n"
          ]
        }
      ]
    },
    {
      "cell_type": "code",
      "source": [
        "plt.scatter(K, training, color ='k')\n",
        "plt.scatter(K, test, color ='g')\n",
        "plt.show()"
      ],
      "metadata": {
        "colab": {
          "base_uri": "https://localhost:8080/",
          "height": 265
        },
        "id": "1uoX8mSLhTxM",
        "outputId": "70e0e106-e5a7-48f1-ca7c-40e1a35bfdf8"
      },
      "execution_count": null,
      "outputs": [
        {
          "output_type": "display_data",
          "data": {
            "text/plain": [
              "<Figure size 432x288 with 1 Axes>"
            ],
            "image/png": "[encoded data removed]"
          },
          "metadata": {
            "needs_background": "light"
          }
        }
      ]
    },
    {
      "cell_type": "code",
      "source": [
        "# For Euclidean \n",
        "K=[]\n",
        "training = []\n",
        "test=[]\n",
        "scores={}\n",
        "\n",
        "for k in range(2,7):\n",
        "  clf = KNeighborsClassifier(n_neighbors = k, p=2)\n",
        "  clf.fit(X_train, y_train)\n",
        "\n",
        "  training_score = clf.score(X_train, y_train)\n",
        "  test_score = clf.score(X_test, y_test)\n",
        "  K.append(k)\n",
        "\n",
        "  training.append(training_score)\n",
        "  test.append(test_score)\n",
        "  scores[k] = [training_score, test_score]\n",
        "\n",
        "print(\"Accuracy Scores\")\n",
        "for keys, values in scores.items():\n",
        "  print(keys, ':', values)\n"
      ],
      "metadata": {
        "id": "KolVdM16jSIL",
        "colab": {
          "base_uri": "https://localhost:8080/"
        },
        "outputId": "584fad50-00bb-40b3-b05c-f24d1230b836"
      },
      "execution_count": null,
      "outputs": [
        {
          "output_type": "stream",
          "name": "stdout",
          "text": [
            "Accuracy Scores\n",
            "2 : [0.9552765237020316, 0.9279368213228035]\n",
            "3 : [0.9521726862302483, 0.924646265218822]\n",
            "4 : [0.9454006772009029, 0.9338598223099703]\n",
            "5 : [0.9434255079006773, 0.9302402105955907]\n",
            "6 : [0.9415914221218962, 0.9361632115827575]\n"
          ]
        }
      ]
    },
    {
      "cell_type": "code",
      "source": [
        "plt.scatter(K, training, color ='k')\n",
        "plt.scatter(K, test, color ='g')\n",
        "plt.show()"
      ],
      "metadata": {
        "colab": {
          "base_uri": "https://localhost:8080/",
          "height": 265
        },
        "id": "Ab9-SoW-s6lC",
        "outputId": "9f3a0bed-7ead-445e-825e-d486b6e606f6"
      },
      "execution_count": null,
      "outputs": [
        {
          "output_type": "display_data",
          "data": {
            "text/plain": [
              "<Figure size 432x288 with 1 Axes>"
            ],
            "image/png": "[encoded data removed]"
          },
          "metadata": {
            "needs_background": "light"
          }
        }
      ]
    },
    {
      "cell_type": "code",
      "source": [
        "# For Manhattan\n",
        "K=[]\n",
        "training = []\n",
        "test=[]\n",
        "scores={}\n",
        "\n",
        "for k in range(2,7):\n",
        "  clf = KNeighborsClassifier(n_neighbors = k, p=1)\n",
        "  clf.fit(X_train, y_train)\n",
        "\n",
        "  training_score = clf.score(X_train, y_train)\n",
        "  test_score = clf.score(X_test, y_test)\n",
        "  K.append(k)\n",
        "\n",
        "  training.append(training_score)\n",
        "  test.append(test_score)\n",
        "  scores[k] = [training_score, test_score]\n",
        "\n",
        "print(\"Accuracy Scores\")\n",
        "for keys, values in scores.items():\n",
        "  print(keys, ':', values)"
      ],
      "metadata": {
        "colab": {
          "base_uri": "https://localhost:8080/"
        },
        "id": "IDCMjUigtGgU",
        "outputId": "7d49209e-035a-4e9c-ccbc-2ef68316369e"
      },
      "execution_count": null,
      "outputs": [
        {
          "output_type": "stream",
          "name": "stdout",
          "text": [
            "Accuracy Scores\n",
            "2 : [0.9556997742663657, 0.9295820993747943]\n",
            "3 : [0.95372460496614, 0.9243172096084238]\n",
            "4 : [0.9454006772009029, 0.9338598223099703]\n",
            "5 : [0.9430022573363431, 0.9312273774267851]\n",
            "6 : [0.9418735891647856, 0.9341888779203685]\n"
          ]
        }
      ]
    },
    {
      "cell_type": "code",
      "source": [
        "plt.scatter(K, training, color ='k')\n",
        "plt.scatter(K, test, color ='g')\n",
        "plt.show()"
      ],
      "metadata": {
        "colab": {
          "base_uri": "https://localhost:8080/",
          "height": 265
        },
        "id": "-royUpo3tR8y",
        "outputId": "cad1bb9d-2c7f-4ac3-ebd7-b4df0b6037f8"
      },
      "execution_count": null,
      "outputs": [
        {
          "output_type": "display_data",
          "data": {
            "text/plain": [
              "<Figure size 432x288 with 1 Axes>"
            ],
            "image/png": "[encoded data removed]"
          },
          "metadata": {
            "needs_background": "light"
          }
        }
      ]
    },
    {
      "cell_type": "code",
      "source": [
        "from sklearn.metrics import classification_report\n",
        "print(classification_report(y_pred, y_test))"
      ],
      "metadata": {
        "colab": {
          "base_uri": "https://localhost:8080/"
        },
        "id": "xJH3mX9Zf1ic",
        "outputId": "3ba0b889-6d03-4344-a2d6-b88c1d2a21b9"
      },
      "execution_count": null,
      "outputs": [
        {
          "output_type": "stream",
          "name": "stdout",
          "text": [
            "              precision    recall  f1-score   support\n",
            "\n",
            "           0       0.98      0.95      0.97      2931\n",
            "           1       0.20      0.53      0.29        15\n",
            "           2       0.00      0.00      0.00         2\n",
            "           3       0.20      0.35      0.26        91\n",
            "\n",
            "    accuracy                           0.93      3039\n",
            "   macro avg       0.35      0.46      0.38      3039\n",
            "weighted avg       0.95      0.93      0.94      3039\n",
            "\n"
          ]
        }
      ]
    }
  ],
  "metadata": {
    "colab": {
      "collapsed_sections": [],
      "provenance": []
    },
    "kernelspec": {
      "display_name": "Python 3",
      "name": "python3"
    },
    "language_info": {
      "name": "python"
    }
  },
  "nbformat": 4,
  "nbformat_minor": 0
}